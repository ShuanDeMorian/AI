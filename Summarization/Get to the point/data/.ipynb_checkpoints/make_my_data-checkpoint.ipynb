{
 "cells": [
  {
   "cell_type": "code",
   "execution_count": 65,
   "metadata": {},
   "outputs": [],
   "source": [
    "def read_story_file(text_file):\n",
    "    with open(text_file, \"r\",encoding='utf-8') as f:\n",
    "        # sentences are separated by 2 newlines\n",
    "        # single newlines might be image captions\n",
    "        # so will be incomplete sentence\n",
    "        lines = f.read().split('\\n\\n')\n",
    "    return lines"
   ]
  },
  {
   "cell_type": "code",
   "execution_count": 66,
   "metadata": {},
   "outputs": [],
   "source": [
    "path=\"my_data/stories_tokenized/00a39c134080b6f215a81c15d46c3ac7cc7bdcf3.story\"\n",
    "a=read_story_file(path)"
   ]
  },
  {
   "cell_type": "code",
   "execution_count": 67,
   "metadata": {
    "scrolled": true
   },
   "outputs": [
    {
     "data": {
      "text/plain": [
       "['ATLANTA, Georgia (CNN)  -- Dressed head to toe in black, designer Isaac Mizrahi is wearing an outfit that seems to contradict his personality -- and his usual fashion flair.',\n",
       " 'Isaac Mizrahi has earned four awards from the Council of Fashion Designers of America.',\n",
       " '\"I always start with color when I\\'m designing things. Always. If the color is right, I feel better,\" he touts on his Web site.',\n",
       " 'But Mizrahi has an explanation for his less than colorful attire on a recent visit to CNN Center in Atlanta.',\n",
       " '\"We have this very quick trip, and we have to go right back and there\\'s no time to pack and we can\\'t check luggage ... so I focused it to black, gray and white.\"',\n",
       " 'It\\'s just one more style tip you can pick up from Mizrahi\\'s new book \"How to Have Style\" (Gotham). Despite the slightly audacious title, Mizrahi, who has won four awards from the Council of Fashion Designers of America, has earned the right to tell women how to dress.',\n",
       " 'For five years, the New York fashion designer has been selling low-priced clothing and home furnishings at Target. But with his new book comes a new job -- as the creative director of Liz Claiborne.',\n",
       " 'CNN talked to Mizrahi about his love for theater, the most common fashion mistakes and why bad flowers are never OK. The following is an edited version of that interview:',\n",
       " 'CNN: You started in acting at the High School of the Performing Arts. How do you combine that love and your love for design?',\n",
       " \"Isaac Mizrahi: Well, you know what, I think it's all theater. I think that fashion is a form of entertainment. And I think that these days, as a fashion designer, it's almost like you represent a political party or something.\",\n",
       " 'Like women say, \"Oh, that\\'s a brand name I associate with because I\\'ve worn it before. I love it. It seems to fulfill who I am really easily.\" Whatever it is, she knows that it just makes her life really easy so she associates with it, you know? And in the end, I am like this personality that represents that.  Watch Mizrahi talk about his new book »',\n",
       " 'But more than that, I have designs [in] the entertainment business. There\\'s a movie called \"Unzipped\" about me that was a really successful movie. I had two TV series. I design costumes constantly for theater and ballet and opera. So to me it\\'s all one big world. It\\'s seamless to me.',\n",
       " \"CNN: What's your daily schedule like? It has to be crazy with all that you do.\",\n",
       " \"Mizrahi: It changes every day, and I really like that. There's a base to it. I wake up, I go swimming every day, and I eat the same breakfast almost every single day. But when I get to work is when it changes up.\",\n",
       " 'Some days I work in the showroom; some days I work in the design room; some days I actually work in my own private studio, where I just do sketches and sketches and sketches. Other days I work in the TV studio taping segments and my Web show.',\n",
       " \"I don't really love travel. I feel like it really disrupts what I love doing most, which is this creation, you know what I mean? When I finally let myself enjoy it, I can enjoy traveling. But it takes a great agony for me to separate from New York City and my studios and the people that I work with.\",\n",
       " \"CNN: Say you're walking down the street. What's the most common style error that you see in people?\",\n",
       " \"Mizrahi: I see a lot, a lot, a lot of bad hair. I would say that's the most common style error I see is bad hair.\",\n",
       " \"You know people have excuses for bad shoes -- because you know some people have back problems, it is the street and they're walking and walking and walking -- but I do think that people have no excuse for bad hair. Because you know what? There's a hat, if your hair is really that bad that day.\",\n",
       " \"But I always think that women should be encouraged to spend a lot of money on their hair. It's like you should spend your most money ... on your hair. You'd think I had a chain of hair salons, but I don't. [Laughter].\",\n",
       " \"CNN: What about in home furnishing? You do a line for Target that's ending this year. What's the most common mistake people make there?\",\n",
       " \"Mizrahi: You know what it is with people? I think people get lazy when it comes to being at home -- they leave things around. I like to think about cabinets. I like to put things away as much as possible. It's like salt shakers on the table? No. You put the salt shakers in a cabinet, and the table looks so much better when it's plain. You know what I mean?\",\n",
       " \"And people just think that bad flowers are better than nothing, but I disagree with that. I think that nothing is way better than bad flowers. You either have gorgeous, gorgeous flowers, or you have no flowers. Like at a dinner party, I prefer no flowers usually to the flowers that people have on the table. That's awful, but it's true.\",\n",
       " 'CNN: How has your personal style evolved over time?',\n",
       " \"Mizrahi: It's gotten a lot quieter, my personal style. I used to dress, dress, dress, dress, dress, and I don't know, I dress in a very particular way now and it's almost like clockwork. And every once in a while I break out and do something crazy.\",\n",
       " 'CNN: Can you describe your personality for me, and how it affects your style?',\n",
       " \"Mizrahi: I don't know. It's very hard to describe one's personality. I can't say about my personality, but I like to think that I'm very exposed to what's going on out there in the world culturally, and that's what influences my design.\",\n",
       " \"It's kind of like here's the 360 degrees of what's going on [in] the world culturally, you know? Socioeconomically, culturally, and here's my response to it. Here's what the clothes look like; here's what you should be wearing. And it's kind of like a wonderful edge, you're standing, and yet there's room enough in there for your own interpretation or to move in one direction or another.\",\n",
       " \"Oh! Here's a good description of my personality: claustrophobic. I am very claustrophobic. I don't like to commit to one thing necessarily, but when I do commit to it, it's whole and complete.\",\n",
       " '@highlight',\n",
       " 'Designer Isaac Mizrahi moving from Target to creative director at Liz Claiborne',\n",
       " '@highlight',\n",
       " 'Mizrahi says he believes \"bad hair\" is the most common style mistake  Designer says he prefers no flowers to \"bad\" ones',\n",
       " '@highlight',\n",
       " 'Mizrahi admits he has a \"claustrophobic\" personality']"
      ]
     },
     "execution_count": 67,
     "metadata": {},
     "output_type": "execute_result"
    }
   ],
   "source": [
    "a"
   ]
  },
  {
   "cell_type": "markdown",
   "metadata": {},
   "source": [
    "비디오 아이디와 자막 story_tokenized로 만들기"
   ]
  },
  {
   "cell_type": "code",
   "execution_count": 54,
   "metadata": {},
   "outputs": [],
   "source": [
    "import json\n",
    "import os\n",
    "import pickle\n",
    "\n",
    "dataPath=\"my_data/videoId\"\n",
    "targetPath=\"my_data/stories_tokenized\""
   ]
  },
  {
   "cell_type": "code",
   "execution_count": 55,
   "metadata": {},
   "outputs": [],
   "source": [
    "def get_comments(filename):\n",
    "    file = dataPath + '/' + filename + '.json'\n",
    "    with open(file) as f:\n",
    "        json_data = json.load(f)\n",
    "    comments = []\n",
    "    for c in json_data['comments']:\n",
    "        comments += [c['textOriginal']]\n",
    "    return comments"
   ]
  },
  {
   "cell_type": "code",
   "execution_count": 56,
   "metadata": {
    "scrolled": false
   },
   "outputs": [],
   "source": [
    "for file in os.listdir(dataPath):\n",
    "    if file.endswith(\".txt\"):\n",
    "        filename = file[:-4]\n",
    "        file = dataPath + '/' + file\n",
    "        data= open(file,'r',encoding='utf-8').read()\n",
    "        comments = get_comments(filename)\n",
    "        i = 0\n",
    "        for c in comments:\n",
    "            i += 1\n",
    "            temp = data\n",
    "            temp += '\\n\\n' + '@highlight'\n",
    "            temp += '\\n\\n' + c\n",
    "            save_file = targetPath + '/' + filename + '_sample'+ str(i) + '.story'\n",
    "            f = open(save_file,'w',encoding='utf-8')\n",
    "            f.write(temp)\n",
    "            f.close()"
   ]
  },
  {
   "cell_type": "code",
   "execution_count": 29,
   "metadata": {},
   "outputs": [
    {
     "data": {
      "text/plain": [
       "['Ugh i love how girly she is her aesthetic is just wow 💗💅🏻',\n",
       " 'This video is so lovely! Makes me want to travel to Paris even more! ☺️💕✨',\n",
       " '☁️💕Trust me Catherine your channel will grow by fast!! Your video are so lovely ! Keep it up ! 💕☁️',\n",
       " \"Omg! I literally gasped when I saw this video! The pink! Aesthetic goals 💝💕 I can't wait until my trip to Paris in February.\",\n",
       " 'Your vlog was adorable. As a Parisian I have to admit I loved seeing the city through your eyes, sometimes when you see it everyday you forget the nice parts of it ! I hope to see more vlogs and/or videos of you in the future <3',\n",
       " 'I love your style 😍 please do hauls or lookbooks, it would be amazing 💖',\n",
       " 'Film a room tour and a wardrobe tour, too, please <3 Luv ya.',\n",
       " 'Dear Catherine, \\nI really loved this vlog. I really like Paris and you did a great job on catching the beauty of it. Please do continue your vlogs. \\nKisses from Germany,S.',\n",
       " \"We are sooooo 😊happy you were ✨brave. It's a lovely hat on you. And this was a delightful vlog 🤗\",\n",
       " 'I just got back from paris and i went because of this video and it has been Fabulous!!! Thank you!',\n",
       " 'What camera do you use to vlog with? xx',\n",
       " 'Omg where do you get your background music from?! It’s so beautiful',\n",
       " 'You look beautiful even though you were not well enough. Love the tea room & your pink Barrett. Going to london - Paris next month .cant wait! Thx for the vlog',\n",
       " 'What a magical, airy, bright and fun experience. Love it. Thank you for sharing.',\n",
       " 'can you do this makeup tutorial? <3',\n",
       " 'catherine I simply ADORED this!!♡',\n",
       " \"It's like I've been to Paris with you watchin' this video! Cute details and style! Great job!😍😍😍\",\n",
       " 'This was some really good, fun experimental filmmaking... loved the explorations with focus in and out, textured shots, a wonderful, artistic taste of Paris, thank you! You put me right there. And the tour of the tea shop with the packaging... great for me as I enjoy growing my own tea herbs. The focus on packaging was a lesson too. Nice work! Keep it up!',\n",
       " 'And I hope you feel better!! 💕🙏🏼',\n",
       " \"Hello! What a great video I love your taste. I also love the beret it's just cherry. I'm a new subscriber my name is Willow Sage\",\n",
       " 'Can you please do a makeup tutorial? Your makeup looks so pretty',\n",
       " 'Love all your videos! Would love to see some outfit videos/clothing hauls, you have such lovely style! Xxx',\n",
       " 'HOLA BONITA! I’m SO in love with this video and the editing 💌 check out my Paris vlog✨',\n",
       " \"I have just found ur channel n blog😍😍😍... N i feel like I've found treasure ❤️❤️❤️❤️\",\n",
       " 'Soo pretty😍😍',\n",
       " \"Love your videos so much! I would love to see a hair tutorial on your hair at 5:00 minutes it's so pretty! Also would love a girly lookbook, you have such a cute and girly style! xx\",\n",
       " 'Women should always have their own sense of style and not worry about being embarrassed - wear what you want and feel good in .  It shows confidence.',\n",
       " \"This vlog is super cute,super pretty. Love the camera work.  I visited laduree. Those macaroons are sooooo yummy. Pricy, but man are they tasty. Omg.  🤗🤗🤗 Can't wait to visit the one on the Champs Elysee in gorgeous Paris soon. Such a stunningly beautiful city.\",\n",
       " 'I really enjoyed your video! Your camera work is lovely, and you showed different things to the usual Paris vlogs. Loved it! 💖',\n",
       " \"Brave or not...you do embody the ultimate tourist Paris cliché...but hey, one cannot argue about taste. I hope you've seen more facets of Paris than just the cliché postcard image.\",\n",
       " \"THIS IS THE BEST PARIS VLOG I'VE SEEN\",\n",
       " 'I love your vlogs girl !!!❤❤❤❤❤',\n",
       " 'Laduree😍 did you get any of their cosmetics by the way ?i love its packaging n pink color!!',\n",
       " 'I wanted to say that you looked lovely on your pink pearly beret.\\nYou should never feel like an idiot to wear it.\\nNice vid.',\n",
       " 'Hi! I am your follower from Instagram. Love your profile',\n",
       " 'Hi Catherine, I just came across you through your Paris Vlog. Love it, thank you for showing us your trip 🇫🇷 N ur a beautiful gal ❤️',\n",
       " '💋This place is beautiful 🙏👸🏻💋',\n",
       " 'Your hair color is beyond beautiful',\n",
       " 'Would love to see whole outfit pics! Cute channel',\n",
       " 'I love that beret! So pretty! I wish I was in Paris right now!:)',\n",
       " 'I have watched countless Paris vlogs and never heard of the Marie Antoinette tea room. I love her and am so glad I know about it now!!! Thank you so much! Loved the whole vlog, but this was the most  exciting part for me,',\n",
       " 'Great video Catherine. You captured even the tiniest details. Please what music did you have playing at 09.32',\n",
       " 'This video is so pretty. Thanks so much!',\n",
       " 'Really finishing this parisian vlog with a british perfume!!!!',\n",
       " 'I don’t get tired watching your video over and over. This may be your first vlog but it’s sooo amazing! I’d like to visit Paris one day too.. you make things look so pretty all the time. You even look pretty when you’re sick.. please make more videos! Thank you for sharing your trip with us!! Hope you feel better now..',\n",
       " \"I just found your instagram and youtube channel, and I'm in love with all your videos! <3 Please make more of them!\",\n",
       " 'Love your video. Paris haul please?',\n",
       " 'Oh my gosh just gorgeous! Everything!',\n",
       " 'You look adorable in that hat :-) Glad you wore it!!!!!!!! Sorry you were sick. Thanks for taking us along.  That was sweet of you to think of us when you were feeling bad. Hugs.',\n",
       " \"Where do you find this music? It's so cute! Loved the video! 🎀💛\",\n",
       " 'beautiful ♡',\n",
       " 'soooo pretty! I love this video',\n",
       " 'omg I love this <3 and pinky which I love I hope to travel soon xx',\n",
       " 'Love everything about this video! I love Paris, love the pink aesthetic and you are so pretty <3',\n",
       " 'Great video!! And you are very pretty!!!',\n",
       " 'omg i love your videos so much!! what camera do you use? 💕',\n",
       " 'Sooo beautiful 😍😍😍😍you’ve highlighted Paris in the best way possible! Amazing vlog!',\n",
       " \"This video was so beautiful! I'm happy you enjoyed Paris! You look gorgeous too ♥\",\n",
       " 'The style of this vlog is just AMAZING 😍 😘',\n",
       " 'i wanna macaroon now',\n",
       " 'I loved this vlog, please do more and you do your makeup so beautifully💭🎀',\n",
       " 'where is the purse from <3?',\n",
       " 'Love love love the beret!💕',\n",
       " 'Love this video! So lovely :)',\n",
       " 'Hello. I really enjoyed watching your video! It’s as if I was there with you enjoying all the good food! 😋 The Marie Antoinette tea is so cute and I love the packaging! The Eiffel Tower looked great at night! 😍 I like your music also! I ❤️ LADUREE and actually have Laduree charms unboxing on my channel! 🤗 I have the same my Burberry perfume also. 👍 TFS. New subbie.',\n",
       " 'I love paris it is full of pretty colors',\n",
       " 'Wow such an aesthetically pleasing video! Can I know what kind of camera are you using? The focus and bokeh during the Eiffel Tower was amazing!',\n",
       " 'Any one want to suscribe each other',\n",
       " 'Please post more video.',\n",
       " 'This is exactly what I wanted to watch, I live on the other side of the world and sooo wanna visit Paris. I love your inclusion of all the little details, it makes it so much more \"real\" for the viewer than just the big shots of the skyline. Love your aesthetic and choice of music and just EVERYTHING. Thank you so much, I hope you\\'re feeling much better.',\n",
       " 'I been following you on Instagram for while I was so happy that you finally doing a YouTube, let help Catherine get a YouTube plaque she amazing x',\n",
       " 'Um, wow. Such a beautiful thumbnail and video. 😳😍😍💕',\n",
       " 'More videos please!!!💖💟💖',\n",
       " \"Ah I loved this vlog and your trip to Paris looked lovely! Such a shame that you weren't feeling great - it always happens like that doesn't it when you go away?! The Burberry perfume looks beautiful too xo\",\n",
       " 'Just came across your channel and subscribed immediately after seeing your video. Loved the beret on you! Was your pink bag Kate spade? Could you link your bag? Loved it!!',\n",
       " 'What a gorgeous video! I look forward to all of your videos and your beautiful pictures on instagram! And your eyeliner is sooo pretty! I hope you feel better and I am anxiously awaiting your next video, xoxo',\n",
       " 'I love you sooooooooo much . You are sooooòooòo cute',\n",
       " 'love your vlog!!!!! want more!!!!!! :)))))',\n",
       " \"Just wanted to say I've been following you on instagram for a while now and I was delighted when I found out that you had started your YouTube channel 💕 loved the vlog, Paris is such a pretty and elegant city just like you it would seem xx \\n(Ps- loving the beret, it doesn't look silly at all)\",\n",
       " 'Great video. Loved the beret.',\n",
       " '❤️👌🙏',\n",
       " '❤️🙏😘🇺🇸',\n",
       " \"Awe! this vlog is so lovely! It's my dream to go to Paris! Thank you so much for filming your trip to Paris Love! The Eiffel Tower at night is just so beautiful! & Feel better soon! :) xx\",\n",
       " 'Подскажи пожалуйста на какую камеру снимаешь ?',\n",
       " 'love this video! makes me miss paris! x',\n",
       " 'Hello! Please, help me😅 I’m currently planning a trip to Paris and after your video I fell in love with Ladurée! What is the address of the one you have visited?',\n",
       " 'Paris is still beautiful the Chinese are destroying New York with their ugly high rises. It saddens me.\\nThey put ugly high rises between beautiful historic buildings. \\nThey don’t care. \\nGeez it’s sad you’re sick I’m glad you can still enjoy Paris it’s a magical place.\\nThe trip of a lifetime. 😊']"
      ]
     },
     "execution_count": 29,
     "metadata": {},
     "output_type": "execute_result"
    }
   ],
   "source": []
  }
 ],
 "metadata": {
  "kernelspec": {
   "display_name": "Python 3",
   "language": "python",
   "name": "python3"
  },
  "language_info": {
   "codemirror_mode": {
    "name": "ipython",
    "version": 3
   },
   "file_extension": ".py",
   "mimetype": "text/x-python",
   "name": "python",
   "nbconvert_exporter": "python",
   "pygments_lexer": "ipython3",
   "version": "3.6.8"
  }
 },
 "nbformat": 4,
 "nbformat_minor": 2
}
