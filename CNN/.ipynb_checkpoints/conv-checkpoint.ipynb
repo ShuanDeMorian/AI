{
 "cells": [
  {
   "cell_type": "code",
   "execution_count": 18,
   "metadata": {},
   "outputs": [],
   "source": [
    "# 1. 파이썬으로 딥러닝하기| CNN(Convolution Neural Network) Part1.이론 - https://everyday-deeplearning.tistory.com/entry/파이썬으로-딥러닝하기-CNNConvolution-Neural-Network \n",
    "# 2. 파이토치 docs - https://pytorch.org/docs/stable/nn.html"
   ]
  },
  {
   "cell_type": "code",
   "execution_count": 3,
   "metadata": {},
   "outputs": [],
   "source": [
    "import numpy as np"
   ]
  },
  {
   "cell_type": "code",
   "execution_count": 7,
   "metadata": {},
   "outputs": [],
   "source": [
    "input_ = np.array([[1,2,3,0],[0,1,2,3],[3,0,1,2],[2,3,0,1]])\n",
    "filter_ = np.array([[2,0,1],[0,1,2],[1,0,2]])\n",
    "bias = 3"
   ]
  },
  {
   "cell_type": "code",
   "execution_count": 28,
   "metadata": {},
   "outputs": [],
   "source": [
    "def padding(input_,pad_width,mode='constant',constant_values=0):\n",
    "    if mode == 'constant':\n",
    "        result = np.zeros((input_.shape[0]+2*pad_width, input_.shape[1] + 2*pad_width))\n",
    "        result[pad_width:pad_width+input_.shape[0],pad_width:pad_width+input_.shape[1]] = input_\n",
    "        return result"
   ]
  },
  {
   "cell_type": "code",
   "execution_count": 35,
   "metadata": {},
   "outputs": [
    {
     "data": {
      "text/plain": [
       "array([[0., 0., 0., 0., 0., 0.],\n",
       "       [0., 1., 2., 3., 0., 0.],\n",
       "       [0., 0., 1., 2., 3., 0.],\n",
       "       [0., 3., 0., 1., 2., 0.],\n",
       "       [0., 2., 3., 0., 1., 0.],\n",
       "       [0., 0., 0., 0., 0., 0.]])"
      ]
     },
     "execution_count": 35,
     "metadata": {},
     "output_type": "execute_result"
    }
   ],
   "source": [
    "padding(input_,1)"
   ]
  },
  {
   "cell_type": "code",
   "execution_count": 41,
   "metadata": {},
   "outputs": [],
   "source": [
    "def conv2d(input_,filter_,bias,pad_width=0):\n",
    "    input_ = np.pad(input_,pad_width=pad_width, mode='constant',constant_values=0)\n",
    "    a = input_.shape[0] - filter_.shape[0] + 1\n",
    "    b = input_.shape[1] - filter_.shape[1] + 1\n",
    "    result2 = []\n",
    "\n",
    "    for rn in range(a):\n",
    "        for cn in range(b):\n",
    "            result1 = input_[rn:rn+filter_.shape[0],cn:cn+filter_.shape[1]] * filter_\n",
    "            result2.append(np.sum(result1) + bias)\n",
    "    \n",
    "    result = np.array(result2).reshape(a,b)\n",
    "    return result"
   ]
  },
  {
   "cell_type": "code",
   "execution_count": 42,
   "metadata": {},
   "outputs": [
    {
     "data": {
      "text/plain": [
       "array([[18, 19],\n",
       "       [ 9, 18]])"
      ]
     },
     "execution_count": 42,
     "metadata": {},
     "output_type": "execute_result"
    }
   ],
   "source": [
    "conv2d(input_,filter_,bias)"
   ]
  },
  {
   "cell_type": "code",
   "execution_count": 43,
   "metadata": {},
   "outputs": [
    {
     "data": {
      "text/plain": [
       "array([[ 7, 12, 10,  2],\n",
       "       [ 4, 15, 16, 10],\n",
       "       [10,  6, 15,  6],\n",
       "       [ 8, 10,  4,  3]])"
      ]
     },
     "execution_count": 43,
     "metadata": {},
     "output_type": "execute_result"
    }
   ],
   "source": [
    "conv2d(input_,filter_,bias=0,pad_width=1)"
   ]
  },
  {
   "cell_type": "code",
   "execution_count": null,
   "metadata": {},
   "outputs": [],
   "source": [
    "def im2col(input_data, filter_h, filter_w, stride=1,pad=0):\n",
    "    \"\"\"다수의 이미지를 입력받아 2차원 배열로 변환한다(평탄화)\n",
    "    Parameters \n",
    "    ---------- \n",
    "    input_data : 4차원 배열 형태의 입력 데이터(이미지 수, 채널 수, 높이, 너비) \n",
    "    filter_h : 필터의 높이 \n",
    "    filter_w : 필터의 너비 \n",
    "    stride : 스트라이드 \n",
    "    pad : 패딩 \n",
    "    \n",
    "    Returns \n",
    "    ------- \n",
    "    col : 2차원 배열     \n",
    "    \n",
    "    \"\"\"\n",
    "    \n",
    "    N, C, H, W = input_data.shape\n",
    "    out_h = (H + 2 * pad - filter_h) // stride + 1 # 위의 출력크기 공식을 이용하여 구현\n",
    "    out_w = (w + 2 * pad - filter_w) // stride + 1 \n",
    "    \n",
    "    img = np.pad(input_data, [(0,0), (0,0), (pad,pad), (pad, pad)], 'constant')\n",
    "    col = np.zeros((N, C, filter_h, filter_w, out_h, out_w))\n",
    "    \n",
    "    for y in range(filter_h):\n",
    "        y_max = y + stride * out_h\n",
    "        for x in range(filter_w):\n",
    "            x_max = x + stride * out_w\n",
    "            col[:, :, y, x, :, :] = img[:, :, y:y_max:stride, x:x_max:stride] \n",
    "            \n",
    "    col = col.transpose(0, 4, 5, 1, 2, 3).reshape(N * out_h * out_w, -1)\n",
    "    \n",
    "    return col\n",
    "    "
   ]
  },
  {
   "cell_type": "code",
   "execution_count": 44,
   "metadata": {},
   "outputs": [],
   "source": [
    "a = [1,2,3,4,5,6,7,8,9]"
   ]
  },
  {
   "cell_type": "code",
   "execution_count": 60,
   "metadata": {},
   "outputs": [
    {
     "data": {
      "text/plain": [
       "[2, 3, 4, 5, 6, 7, 8]"
      ]
     },
     "execution_count": 60,
     "metadata": {},
     "output_type": "execute_result"
    }
   ],
   "source": [
    "a[1:8:1]"
   ]
  },
  {
   "cell_type": "code",
   "execution_count": 63,
   "metadata": {},
   "outputs": [
    {
     "data": {
      "text/plain": [
       "[2, 5, 8]"
      ]
     },
     "execution_count": 63,
     "metadata": {},
     "output_type": "execute_result"
    }
   ],
   "source": [
    "a[1:8:3]\n",
    "# 3씩 건너뛴다"
   ]
  }
 ],
 "metadata": {
  "kernelspec": {
   "display_name": "Python 3",
   "language": "python",
   "name": "python3"
  },
  "language_info": {
   "codemirror_mode": {
    "name": "ipython",
    "version": 3
   },
   "file_extension": ".py",
   "mimetype": "text/x-python",
   "name": "python",
   "nbconvert_exporter": "python",
   "pygments_lexer": "ipython3",
   "version": "3.7.1"
  }
 },
 "nbformat": 4,
 "nbformat_minor": 2
}
