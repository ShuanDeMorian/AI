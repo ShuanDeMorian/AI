{
 "cells": [
  {
   "cell_type": "code",
   "execution_count": 19,
   "metadata": {},
   "outputs": [],
   "source": [
    "import numpy as np\n",
    "import torch\n",
    "import torch.nn as nn\n",
    "import torch.nn.functional as F\n",
    "import torch.optim as optim\n",
    "from torchvision import datasets, transforms"
   ]
  },
  {
   "cell_type": "code",
   "execution_count": 20,
   "metadata": {},
   "outputs": [],
   "source": [
    "# GPU 사용\n",
    "device = torch.device('cuda' if torch.cuda.is_available() else 'cpu')"
   ]
  },
  {
   "cell_type": "code",
   "execution_count": 21,
   "metadata": {},
   "outputs": [],
   "source": [
    "batch_size = 128\n",
    "\n",
    "# MNIST Dataset\n",
    "train_dataset = datasets.MNIST(root='./mnist_data',\n",
    "                              train=True,\n",
    "                              transform=transforms.ToTensor(),\n",
    "                              download=True)\n",
    "test_dataset = datasets.MNIST(root='./mnist_data/',\n",
    "                              train=False,\n",
    "                              transform=transforms.ToTensor())\n",
    "\n",
    "# Data Loader(Input Pipeline)\n",
    "train_loader = torch.utils.data.DataLoader(dataset=train_dataset,\n",
    "                                          batch_size=batch_size,\n",
    "                                          shuffle=True)\n",
    "test_loader = torch.utils.data.DataLoader(dataset=test_dataset,\n",
    "                                          batch_size=batch_size,\n",
    "                                          shuffle=False)"
   ]
  },
  {
   "cell_type": "code",
   "execution_count": 22,
   "metadata": {},
   "outputs": [
    {
     "data": {
      "text/plain": [
       "784"
      ]
     },
     "execution_count": 22,
     "metadata": {},
     "output_type": "execute_result"
    }
   ],
   "source": [
    "28 * 28"
   ]
  },
  {
   "cell_type": "code",
   "execution_count": 34,
   "metadata": {},
   "outputs": [],
   "source": [
    "class NNModel(torch.nn.Module):\n",
    "    def __init__(self):\n",
    "        super(NNModel,self).__init__()\n",
    "        self.l1 = nn.Linear(28 * 28, 512)\n",
    "        self.l2 = nn.Linear(512,10)\n",
    "        \n",
    "    def forward(self,x):\n",
    "        # input data : (n , 1, 28, 28)\n",
    "        x = x.view(-1, 28 * 28) # Flatten : (n, 784)\n",
    "        x = F.relu(self.l1(x))\n",
    "        x = F.softmax(self.l2(x))\n",
    "        return x"
   ]
  },
  {
   "cell_type": "code",
   "execution_count": 47,
   "metadata": {},
   "outputs": [],
   "source": [
    "model = NNModel()\n",
    "\n",
    "criterion = nn.CrossEntropyLoss()\n",
    "optimizer = optim.RMSprop(model.parameters(),lr=0.01)\n",
    "\n",
    "model = model.to(device)"
   ]
  },
  {
   "cell_type": "code",
   "execution_count": 48,
   "metadata": {},
   "outputs": [],
   "source": [
    "def train(epoch):\n",
    "    model.train()\n",
    "    for batch_idx, (data,target) in enumerate(train_loader):\n",
    "        \n",
    "        data = data.to(device)\n",
    "        target = target.to(device)\n",
    "        \n",
    "        output = model(data)\n",
    "        \n",
    "        optimizer.zero_grad()\n",
    "        loss = criterion(output, target)\n",
    "        loss.backward()\n",
    "        optimizer.step()\n",
    "        \n",
    "        if batch_idx%100==0:\n",
    "            print('Train Epoch: {} [{}/{} ({:.0f}%)]\\tLoss: {:.6f}'.format(\n",
    "                epoch, \n",
    "                batch_idx * len(data), \n",
    "                len(train_loader.dataset),\n",
    "                100. * batch_idx / len(train_loader), \n",
    "                loss.item()))"
   ]
  },
  {
   "cell_type": "code",
   "execution_count": 49,
   "metadata": {},
   "outputs": [],
   "source": [
    "def test():\n",
    "    model.eval()\n",
    "    test_loss = 0\n",
    "    correct = 0\n",
    "    for data, target in test_loader:\n",
    "        \n",
    "        data = data.to(device)\n",
    "        target = target.to(device)\n",
    "         \n",
    "        output = model(data)\n",
    "        \n",
    "        # test_loss += criterion(output, target).data[0]\n",
    "        test_loss += criterion(output, target).item()\n",
    "        \n",
    "        pred = output.data.max(1, keepdim=True)[1]\n",
    "        correct += pred.eq(target.data.view_as(pred)).sum()\n",
    "        \n",
    "    test_loss /= len(test_loader.dataset)\n",
    "    print('\\nTest set: Average loss: {:.4f}, Accuracy: {}/{} ({:.0f}%)\\n'.format(\n",
    "        test_loss, \n",
    "        correct, \n",
    "        len(test_loader.dataset),\n",
    "        100. * correct / len(test_loader.dataset)))"
   ]
  },
  {
   "cell_type": "code",
   "execution_count": 50,
   "metadata": {
    "scrolled": true
   },
   "outputs": [
    {
     "name": "stdout",
     "output_type": "stream",
     "text": [
      "Train Epoch: 1 [0/60000 (0%)]\tLoss: 2.306664\n",
      "Train Epoch: 1 [12800/60000 (21%)]\tLoss: 0.231870\n",
      "Train Epoch: 1 [25600/60000 (43%)]\tLoss: 0.145246\n",
      "Train Epoch: 1 [38400/60000 (64%)]\tLoss: 0.181966\n",
      "Train Epoch: 1 [51200/60000 (85%)]\tLoss: 0.187945\n",
      "\n",
      "Test set: Average loss: 0.0013, Accuracy: 9534/10000 (95%)\n",
      "\n",
      "Train Epoch: 2 [0/60000 (0%)]\tLoss: 0.187791\n",
      "Train Epoch: 2 [12800/60000 (21%)]\tLoss: 0.143431\n",
      "Train Epoch: 2 [25600/60000 (43%)]\tLoss: 0.107935\n",
      "Train Epoch: 2 [38400/60000 (64%)]\tLoss: 0.165852\n",
      "Train Epoch: 2 [51200/60000 (85%)]\tLoss: 0.134890\n",
      "\n",
      "Test set: Average loss: 0.0010, Accuracy: 9646/10000 (96%)\n",
      "\n",
      "Train Epoch: 3 [0/60000 (0%)]\tLoss: 0.075723\n",
      "Train Epoch: 3 [12800/60000 (21%)]\tLoss: 0.046875\n",
      "Train Epoch: 3 [25600/60000 (43%)]\tLoss: 0.074496\n",
      "Train Epoch: 3 [38400/60000 (64%)]\tLoss: 0.081796\n",
      "Train Epoch: 3 [51200/60000 (85%)]\tLoss: 0.157873\n",
      "\n",
      "Test set: Average loss: 0.0009, Accuracy: 9705/10000 (97%)\n",
      "\n",
      "Train Epoch: 4 [0/60000 (0%)]\tLoss: 0.074439\n",
      "Train Epoch: 4 [12800/60000 (21%)]\tLoss: 0.053027\n",
      "Train Epoch: 4 [25600/60000 (43%)]\tLoss: 0.090320\n",
      "Train Epoch: 4 [38400/60000 (64%)]\tLoss: 0.031404\n",
      "Train Epoch: 4 [51200/60000 (85%)]\tLoss: 0.113596\n",
      "\n",
      "Test set: Average loss: 0.0010, Accuracy: 9668/10000 (96%)\n",
      "\n",
      "Train Epoch: 5 [0/60000 (0%)]\tLoss: 0.040365\n",
      "Train Epoch: 5 [12800/60000 (21%)]\tLoss: 0.133661\n",
      "Train Epoch: 5 [25600/60000 (43%)]\tLoss: 0.018700\n",
      "Train Epoch: 5 [38400/60000 (64%)]\tLoss: 0.051622\n",
      "Train Epoch: 5 [51200/60000 (85%)]\tLoss: 0.035283\n",
      "\n",
      "Test set: Average loss: 0.0011, Accuracy: 9747/10000 (97%)\n",
      "\n"
     ]
    }
   ],
   "source": [
    "for epoch in range(1,6):\n",
    "    train(epoch)\n",
    "    test()"
   ]
  }
 ],
 "metadata": {
  "kernelspec": {
   "display_name": "Python 3",
   "language": "python",
   "name": "python3"
  },
  "language_info": {
   "codemirror_mode": {
    "name": "ipython",
    "version": 3
   },
   "file_extension": ".py",
   "mimetype": "text/x-python",
   "name": "python",
   "nbconvert_exporter": "python",
   "pygments_lexer": "ipython3",
   "version": "3.6.8"
  }
 },
 "nbformat": 4,
 "nbformat_minor": 2
}
