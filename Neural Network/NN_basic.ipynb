{
 "cells": [
  {
   "cell_type": "markdown",
   "metadata": {},
   "source": [
    "credit : https://pytorch.org/tutorials/beginner/blitz/neural_networks_tutorial.html#define-the-network"
   ]
  },
  {
   "cell_type": "markdown",
   "metadata": {},
   "source": [
    "## Neural Networks\n",
    "Neural networks can be constructed using the torch.nn package\n",
    "An nn.Module contains layers, and a method forward(input) that returns the output\n",
    "\n",
    "https://pytorch.org/docs/stable/nn.html#linear"
   ]
  },
  {
   "cell_type": "markdown",
   "metadata": {},
   "source": [
    "## Define the network\n",
    "\n",
    "Inputs : 8x1x32x32 (nSamples x nChannels x Height x Width)\n",
    "\n",
    "8 is mini batch's size, if input is RGB image, then nChannels is 3 \n",
    "\n",
    "Output : 8x10 (nSamples x nClasses)"
   ]
  },
  {
   "cell_type": "code",
   "execution_count": 1,
   "metadata": {},
   "outputs": [
    {
     "name": "stdout",
     "output_type": "stream",
     "text": [
      "Net(\n",
      "  (fc1): Linear(in_features=1024, out_features=120, bias=True)\n",
      "  (fc2): Linear(in_features=120, out_features=84, bias=True)\n",
      "  (fc3): Linear(in_features=84, out_features=10, bias=True)\n",
      "  (relu): ReLU(inplace)\n",
      ")\n"
     ]
    }
   ],
   "source": [
    "import torch\n",
    "import torch.nn as nn\n",
    "import torch.nn.functional as F\n",
    "\n",
    "# inherit from nn.Module\n",
    "class Net(nn.Module):\n",
    "    def __init__(self):\n",
    "        super(Net, self).__init__()\n",
    "        # an affine operation: y=Wx+b\n",
    "        # define fully connect layer\n",
    "        self.fc1 = nn.Linear(32*32,120)     # 32*32 mapping to 120\n",
    "        self.fc2 = nn.Linear(120, 84)\n",
    "        self.fc3 = nn.Linear(84, 10)\n",
    "        self.relu = nn.ReLU(inplace=True)   \n",
    "        # inplace-can optionally do the operation in-place.\n",
    "        # inplace true means that it will modify the input directly, without allocating any additional output. It can sometimes slightly decrease the memory usage, but may not always be a valid operation (because the original input is destroyed). However, if you don't see an error, it means that your use case is valid\n",
    "        \n",
    "    def forward(self, x):\n",
    "        # View returns a new tensor with the same data but of a diffent size(resizing)\n",
    "        x = x.view(-1,32*32)\n",
    "        x = self.relu(self.fc1(x))\n",
    "        x = self.relu(self.fc2(x))\n",
    "        x = self.fc3(x)\n",
    "        return x\n",
    "    \n",
    "net = Net()\n",
    "print(net)\n",
    "        "
   ]
  },
  {
   "cell_type": "markdown",
   "metadata": {},
   "source": [
    "You just have to define the forward function, and the backward function( where gradients are computed) is automatically defined for you using autograd.\n",
    "\n",
    "### You can use any of the Tensor operations in the forward function."
   ]
  },
  {
   "cell_type": "code",
   "execution_count": 2,
   "metadata": {},
   "outputs": [
    {
     "name": "stdout",
     "output_type": "stream",
     "text": [
      "AnyOperations(\n",
      "  (fc1): Linear(in_features=1024, out_features=120, bias=True)\n",
      "  (fc2): Linear(in_features=120, out_features=84, bias=True)\n",
      "  (fc3): Linear(in_features=84, out_features=10, bias=True)\n",
      "  (relu): ReLU(inplace)\n",
      ")\n"
     ]
    }
   ],
   "source": [
    "class AnyOperations(nn.Module):\n",
    "    def __init__(self):\n",
    "        super(AnyOperations, self).__init__()\n",
    "        # an affine operation: y = Wx + b\n",
    "        self.fc1 = nn.Linear(32*32, 120)\n",
    "        self.fc2 = nn.Linear(120, 84)\n",
    "        self.fc3 = nn.Linear(84, 10)\n",
    "        self.relu = nn.ReLU(inplace=True)\n",
    "    \n",
    "    def forward(self, x):\n",
    "        x = x.view(-1,32*32)\n",
    "        x = self.relu(self.fc1(x))\n",
    "        x = self.relu(self.fc2(x))\n",
    "        x = self.fc3(x)\n",
    "        # noise = torch.Tensor(3).normal_(0,1)\n",
    "        for i in range(10):\n",
    "            if torch.rand(1).item()>0.5:\n",
    "                x = x*x\n",
    "            else:\n",
    "                x = x+x\n",
    "        return x\n",
    "\n",
    "net2 = AnyOperations()\n",
    "print(net2)"
   ]
  },
  {
   "cell_type": "markdown",
   "metadata": {},
   "source": [
    "The learnable parameters of a model are returned by net.parameters()"
   ]
  },
  {
   "cell_type": "code",
   "execution_count": 3,
   "metadata": {},
   "outputs": [
    {
     "name": "stdout",
     "output_type": "stream",
     "text": [
      "[Parameter containing:\n",
      "tensor([[ 0.0089, -0.0263, -0.0170,  ...,  0.0221,  0.0092,  0.0173],\n",
      "        [-0.0006, -0.0183, -0.0070,  ..., -0.0012, -0.0017,  0.0051],\n",
      "        [ 0.0165,  0.0152, -0.0228,  ...,  0.0261, -0.0013, -0.0052],\n",
      "        ...,\n",
      "        [ 0.0291, -0.0128, -0.0271,  ..., -0.0169, -0.0161, -0.0255],\n",
      "        [-0.0008,  0.0053, -0.0067,  ...,  0.0211,  0.0126,  0.0132],\n",
      "        [-0.0150,  0.0104, -0.0259,  ...,  0.0112,  0.0226,  0.0241]],\n",
      "       requires_grad=True), Parameter containing:\n",
      "tensor([-0.0072, -0.0258,  0.0082,  0.0125, -0.0073, -0.0235,  0.0269, -0.0132,\n",
      "         0.0183, -0.0081, -0.0137, -0.0259,  0.0149,  0.0206,  0.0076, -0.0071,\n",
      "        -0.0103, -0.0174, -0.0183, -0.0170, -0.0154,  0.0247, -0.0075,  0.0029,\n",
      "        -0.0103,  0.0238,  0.0081,  0.0127, -0.0021, -0.0017, -0.0228, -0.0151,\n",
      "         0.0019, -0.0297,  0.0112, -0.0259,  0.0118,  0.0171, -0.0005, -0.0206,\n",
      "        -0.0079, -0.0256,  0.0151, -0.0158,  0.0027, -0.0214, -0.0156, -0.0029,\n",
      "        -0.0065, -0.0246,  0.0237,  0.0300, -0.0055,  0.0153, -0.0050, -0.0139,\n",
      "         0.0031, -0.0007, -0.0006,  0.0009,  0.0232, -0.0067, -0.0261, -0.0278,\n",
      "         0.0005, -0.0142,  0.0207,  0.0014,  0.0075,  0.0194, -0.0056, -0.0077,\n",
      "        -0.0097,  0.0262,  0.0019,  0.0311, -0.0028, -0.0194, -0.0273,  0.0271,\n",
      "        -0.0235, -0.0210,  0.0310, -0.0069, -0.0221,  0.0173, -0.0228,  0.0088,\n",
      "         0.0287, -0.0287, -0.0183, -0.0013,  0.0255, -0.0178,  0.0209, -0.0042,\n",
      "         0.0091, -0.0093, -0.0185, -0.0269, -0.0262, -0.0226, -0.0078, -0.0016,\n",
      "        -0.0158, -0.0225, -0.0117, -0.0132,  0.0173, -0.0058, -0.0165,  0.0134,\n",
      "        -0.0064,  0.0130, -0.0252,  0.0168, -0.0294,  0.0229, -0.0078, -0.0252],\n",
      "       requires_grad=True), Parameter containing:\n",
      "tensor([[-0.0369,  0.0316,  0.0008,  ...,  0.0795, -0.0591,  0.0382],\n",
      "        [-0.0089, -0.0017, -0.0092,  ...,  0.0677, -0.0820, -0.0479],\n",
      "        [ 0.0751,  0.0044,  0.0721,  ...,  0.0817, -0.0753, -0.0297],\n",
      "        ...,\n",
      "        [ 0.0606, -0.0124,  0.0778,  ..., -0.0106,  0.0655, -0.0615],\n",
      "        [ 0.0088, -0.0767, -0.0140,  ..., -0.0540,  0.0170,  0.0781],\n",
      "        [-0.0643,  0.0137,  0.0696,  ..., -0.0227, -0.0459,  0.0713]],\n",
      "       requires_grad=True), Parameter containing:\n",
      "tensor([ 0.0361,  0.0867, -0.0208,  0.0344, -0.0720,  0.0536, -0.0120,  0.0726,\n",
      "        -0.0686, -0.0291, -0.0663, -0.0265,  0.0548,  0.0058, -0.0811, -0.0426,\n",
      "        -0.0263, -0.0571,  0.0562,  0.0408,  0.0351, -0.0145,  0.0249,  0.0693,\n",
      "         0.0707,  0.0217, -0.0379,  0.0384,  0.0011,  0.0721,  0.0701, -0.0389,\n",
      "        -0.0162, -0.0617, -0.0609, -0.0575,  0.0509,  0.0078,  0.0407, -0.0904,\n",
      "         0.0467, -0.0292,  0.0169,  0.0297,  0.0630, -0.0552,  0.0583, -0.0559,\n",
      "        -0.0391,  0.0823, -0.0154,  0.0888, -0.0288,  0.0039, -0.0488, -0.0243,\n",
      "         0.0412, -0.0246,  0.0846, -0.0256,  0.0004,  0.0110,  0.0732, -0.0524,\n",
      "         0.0585, -0.0207, -0.0499, -0.0350, -0.0469,  0.0583, -0.0860,  0.0832,\n",
      "        -0.0845, -0.0380, -0.0413,  0.0869,  0.0612,  0.0840, -0.0063, -0.0892,\n",
      "        -0.0828, -0.0617, -0.0140,  0.0641], requires_grad=True), Parameter containing:\n",
      "tensor([[-0.0235, -0.1031,  0.0997,  0.0896, -0.0414,  0.0884,  0.0002, -0.0487,\n",
      "          0.0689, -0.0090,  0.0750,  0.0144,  0.0941, -0.0859, -0.0241,  0.0775,\n",
      "          0.0741, -0.0057, -0.0742,  0.0611,  0.0688,  0.0382,  0.0850, -0.0844,\n",
      "          0.0071, -0.0084,  0.0062,  0.0546, -0.0703,  0.0168, -0.0346, -0.0255,\n",
      "         -0.0702,  0.0721,  0.0322,  0.0283,  0.0330, -0.0127, -0.0261,  0.0094,\n",
      "         -0.0660, -0.1071,  0.0188, -0.0477, -0.0346, -0.0485,  0.0277,  0.0753,\n",
      "          0.0998,  0.0308, -0.0725,  0.0832, -0.0801, -0.0648, -0.0308,  0.0337,\n",
      "         -0.0835, -0.0158,  0.0668,  0.0412,  0.0424,  0.0873, -0.0840, -0.1058,\n",
      "         -0.0279,  0.0966,  0.0509,  0.0379, -0.1057, -0.0404, -0.0271, -0.0606,\n",
      "         -0.0128,  0.0025,  0.0219,  0.0011,  0.1040,  0.0787, -0.0597, -0.0542,\n",
      "          0.0443,  0.0636,  0.0130,  0.0325],\n",
      "        [-0.0096,  0.0475,  0.0283, -0.0660, -0.0694,  0.0729, -0.0655, -0.0605,\n",
      "          0.0182, -0.0100,  0.1066,  0.0363, -0.0351,  0.0650, -0.0816,  0.0253,\n",
      "         -0.0604, -0.0017, -0.0701, -0.0503, -0.0748,  0.0358, -0.0376, -0.1009,\n",
      "         -0.0176,  0.0518,  0.0244, -0.0903,  0.0687,  0.0032,  0.0259, -0.0909,\n",
      "         -0.0389, -0.0569,  0.0633, -0.0134, -0.0226,  0.0450,  0.1032,  0.0179,\n",
      "         -0.0830, -0.0904,  0.0335,  0.0685,  0.0404, -0.0837, -0.0773,  0.0872,\n",
      "          0.0151, -0.0020, -0.0350, -0.1068,  0.0497, -0.0347,  0.1004,  0.0544,\n",
      "          0.0083, -0.0137, -0.0067,  0.0268,  0.0062,  0.0762,  0.0479, -0.0265,\n",
      "         -0.0130,  0.0075,  0.0727,  0.0057,  0.0305,  0.0129,  0.0603, -0.0007,\n",
      "         -0.0185, -0.0442,  0.0154,  0.0406, -0.0801,  0.0875, -0.0573,  0.0804,\n",
      "         -0.0483, -0.0622,  0.0202,  0.0048],\n",
      "        [-0.0741, -0.0879, -0.0146,  0.0866,  0.1013,  0.0199, -0.0342,  0.0780,\n",
      "          0.0861,  0.0271, -0.0327, -0.0074,  0.0752, -0.0830,  0.0951, -0.0317,\n",
      "         -0.0045, -0.0487,  0.0446, -0.0339,  0.0758,  0.0362,  0.0457, -0.0080,\n",
      "         -0.0632,  0.0459,  0.0023,  0.0499, -0.0090,  0.0874,  0.0064, -0.0978,\n",
      "          0.0405,  0.0420, -0.0913, -0.0399, -0.0441,  0.0891, -0.0603, -0.0007,\n",
      "         -0.0874,  0.0368, -0.0303, -0.0211, -0.1035, -0.0915, -0.1009,  0.0141,\n",
      "          0.0372, -0.0777,  0.0589, -0.0389, -0.0991, -0.0422, -0.0509,  0.0302,\n",
      "         -0.0410, -0.1064,  0.1045, -0.0883,  0.1046, -0.1081, -0.0272,  0.0364,\n",
      "          0.0622, -0.0110,  0.0685,  0.0893, -0.0895, -0.0067, -0.0662, -0.0646,\n",
      "         -0.0853,  0.0570, -0.0301,  0.0746,  0.0718, -0.0951, -0.0869,  0.0395,\n",
      "          0.0605, -0.0127, -0.0369,  0.0898],\n",
      "        [-0.0056,  0.0527, -0.0528,  0.0776,  0.0586, -0.0526, -0.0500,  0.0002,\n",
      "         -0.0478,  0.0133,  0.0345,  0.0867,  0.0619,  0.0955, -0.0912, -0.0405,\n",
      "          0.0218, -0.0193, -0.0816, -0.0777, -0.0196, -0.1060,  0.0235, -0.0555,\n",
      "          0.0567, -0.0687,  0.0722,  0.0173, -0.0884, -0.0767,  0.0494,  0.0004,\n",
      "          0.0069, -0.0609,  0.0494, -0.0260,  0.1056,  0.0333, -0.0973,  0.0541,\n",
      "          0.0104,  0.0747,  0.0299, -0.0376, -0.0770, -0.0136, -0.0219, -0.0645,\n",
      "         -0.0787,  0.0379, -0.0937,  0.0474, -0.0696,  0.0958, -0.0098, -0.0431,\n",
      "          0.0697, -0.0562,  0.0331, -0.0836,  0.0573, -0.0243,  0.0926, -0.0584,\n",
      "          0.0771, -0.0798, -0.1009,  0.0693,  0.0989, -0.0245,  0.0364,  0.0695,\n",
      "          0.0868,  0.0269, -0.1038,  0.0787, -0.1016, -0.0360,  0.1078, -0.0183,\n",
      "          0.0747,  0.0252,  0.0253, -0.0328],\n",
      "        [ 0.0050, -0.0115, -0.0490,  0.0244,  0.1021, -0.0564, -0.0897,  0.0007,\n",
      "          0.0835, -0.0049, -0.0392, -0.0755,  0.0764, -0.0722, -0.0824, -0.0728,\n",
      "          0.0402,  0.0494, -0.0296,  0.0580,  0.1086,  0.0578,  0.0504,  0.0755,\n",
      "         -0.0729,  0.0989, -0.0378,  0.0249,  0.1049,  0.0540,  0.0883, -0.0861,\n",
      "          0.0233,  0.0883, -0.0313, -0.1064, -0.0946,  0.1064, -0.0209, -0.0228,\n",
      "         -0.0216, -0.0532, -0.0206,  0.0249, -0.0295,  0.0810,  0.0541, -0.0309,\n",
      "          0.0795, -0.1039,  0.0409, -0.0189,  0.0208, -0.0318,  0.0973,  0.0637,\n",
      "          0.0022, -0.0541, -0.0270, -0.0040, -0.0911,  0.0577,  0.0573, -0.0725,\n",
      "         -0.0726,  0.1021,  0.0050, -0.0260, -0.0651, -0.0710, -0.0488, -0.0933,\n",
      "          0.0749,  0.0693,  0.0814,  0.0150,  0.0972, -0.0851, -0.0145, -0.0675,\n",
      "          0.0123,  0.0514, -0.0069, -0.0062],\n",
      "        [ 0.0775,  0.0667, -0.0020, -0.0767, -0.0459,  0.0303,  0.0112, -0.0555,\n",
      "         -0.0308, -0.0368, -0.0168, -0.0401, -0.0383, -0.0045, -0.0338, -0.0528,\n",
      "          0.0652,  0.0380, -0.0071,  0.0494,  0.0087,  0.0660, -0.0454, -0.0415,\n",
      "          0.0713,  0.0615, -0.1056, -0.0625,  0.0002, -0.0791, -0.0244, -0.0221,\n",
      "          0.0732, -0.0129, -0.0335, -0.0163,  0.0090, -0.0079,  0.0296, -0.0070,\n",
      "         -0.0079, -0.0966,  0.0151, -0.0761,  0.0892,  0.0093, -0.0168,  0.0412,\n",
      "         -0.0431,  0.0634,  0.0355,  0.0372, -0.0456, -0.0989, -0.0977,  0.0044,\n",
      "          0.0420,  0.0782,  0.0013, -0.0088, -0.0739,  0.0959, -0.0551,  0.0788,\n",
      "          0.0931, -0.1054, -0.0595,  0.0428,  0.0203,  0.0239,  0.0842, -0.0429,\n",
      "          0.0782, -0.0315,  0.0664,  0.0458,  0.0155,  0.0439, -0.0191,  0.0230,\n",
      "         -0.1063, -0.1070, -0.0443,  0.0056],\n",
      "        [-0.1076, -0.0017,  0.0598,  0.0956,  0.0795, -0.0996, -0.0263,  0.0550,\n",
      "         -0.1019, -0.0308, -0.1034,  0.0344, -0.0318,  0.0442,  0.0386,  0.0479,\n",
      "         -0.0163,  0.0977, -0.0257, -0.0290, -0.0413, -0.0840, -0.0095, -0.1012,\n",
      "          0.0931,  0.1051, -0.0915, -0.0564, -0.0688,  0.0552, -0.0253, -0.0930,\n",
      "          0.0812, -0.0582, -0.1040,  0.0090,  0.0543, -0.0846, -0.0124, -0.0591,\n",
      "         -0.0132,  0.0323,  0.0415, -0.0269,  0.0870,  0.1071,  0.0983,  0.1085,\n",
      "         -0.0188,  0.0029, -0.0696, -0.0695,  0.0819,  0.0876,  0.0062,  0.1005,\n",
      "          0.0718, -0.0431, -0.0912,  0.0647, -0.0890, -0.0836,  0.0849, -0.0223,\n",
      "         -0.0138, -0.0609,  0.0055, -0.0692, -0.0733,  0.0738,  0.0452,  0.0743,\n",
      "          0.0698,  0.0583,  0.0737,  0.0023,  0.0609,  0.0087,  0.0498, -0.0421,\n",
      "          0.0139, -0.1077, -0.0320, -0.0932],\n",
      "        [ 0.0653, -0.0120,  0.0982, -0.1049, -0.1077, -0.0774,  0.0320, -0.0342,\n",
      "          0.0019, -0.0887,  0.0635, -0.0012,  0.0026, -0.0772,  0.0209,  0.0533,\n",
      "          0.0821,  0.1056,  0.0457,  0.0704,  0.0592,  0.0522,  0.0767,  0.0721,\n",
      "          0.0694, -0.1091, -0.0078, -0.0310, -0.0432,  0.0850, -0.0765,  0.0331,\n",
      "          0.1017, -0.0510,  0.0986,  0.0991, -0.0878,  0.0095,  0.0669,  0.0471,\n",
      "          0.0934,  0.0794,  0.0405,  0.0588, -0.0286, -0.0307,  0.0125, -0.0423,\n",
      "          0.0547, -0.0885, -0.0204, -0.0144, -0.1075, -0.0305, -0.0810, -0.0500,\n",
      "         -0.0787,  0.0840,  0.0034, -0.0641,  0.0385,  0.0691,  0.0686, -0.0390,\n",
      "         -0.0355, -0.0380, -0.0695, -0.0369, -0.0501,  0.0519,  0.0127, -0.0742,\n",
      "          0.0317, -0.0023, -0.0260,  0.0028, -0.0048,  0.0886,  0.0073, -0.0800,\n",
      "         -0.0970, -0.0632, -0.0385, -0.0318],\n",
      "        [-0.0169,  0.0106,  0.0910,  0.0783,  0.0146, -0.0327,  0.0576, -0.0114,\n",
      "          0.0329,  0.0383,  0.0908, -0.0859,  0.0107, -0.0072,  0.0774, -0.0804,\n",
      "         -0.0550,  0.0471, -0.0154, -0.0996, -0.0853, -0.0634, -0.0345,  0.0536,\n",
      "          0.0924, -0.0630, -0.0016, -0.0432,  0.1032,  0.0315,  0.0124, -0.0487,\n",
      "          0.0757,  0.0386, -0.0662,  0.0940,  0.0333, -0.0466, -0.0290,  0.0689,\n",
      "         -0.0833,  0.1085, -0.0335,  0.0457, -0.0048,  0.0498, -0.1054,  0.0025,\n",
      "         -0.0147,  0.0123,  0.1017,  0.1083,  0.0716, -0.0305,  0.0624, -0.0673,\n",
      "         -0.0973, -0.0363,  0.0587,  0.0047, -0.0590,  0.0482, -0.0987,  0.0496,\n",
      "         -0.0942, -0.0382,  0.0031,  0.0973,  0.0275,  0.0489,  0.0079,  0.0541,\n",
      "          0.0736, -0.0265,  0.0714,  0.0197,  0.0624, -0.0298, -0.0051, -0.0858,\n",
      "         -0.0609, -0.0714, -0.0289, -0.0825],\n",
      "        [-0.0108, -0.0222,  0.0944,  0.0055,  0.0229,  0.0766,  0.0980, -0.0316,\n",
      "         -0.0990, -0.0057,  0.0868, -0.0880, -0.0406, -0.0834, -0.0121,  0.0303,\n",
      "         -0.0907, -0.0016, -0.0821,  0.0031, -0.0622,  0.0638, -0.0573,  0.0602,\n",
      "         -0.0891, -0.0157, -0.0860,  0.1021, -0.0729, -0.0587, -0.0546,  0.0979,\n",
      "          0.0369, -0.0725,  0.1084, -0.1085,  0.0382,  0.0165,  0.0359, -0.0122,\n",
      "         -0.0854,  0.0129,  0.0851, -0.0505,  0.0374,  0.0183,  0.0553,  0.0127,\n",
      "          0.0206,  0.1072,  0.0954,  0.0068, -0.0355, -0.0864, -0.0504,  0.0622,\n",
      "         -0.0224, -0.0317, -0.0908, -0.0405,  0.0723,  0.0429, -0.0089, -0.0839,\n",
      "          0.0270,  0.0266,  0.0672,  0.0071,  0.0091,  0.0785,  0.1021, -0.0880,\n",
      "         -0.0055, -0.0197, -0.0154, -0.0596, -0.0276,  0.1047,  0.1091, -0.0941,\n",
      "          0.0492, -0.1003,  0.0971, -0.0800]], requires_grad=True), Parameter containing:\n",
      "tensor([-0.0528, -0.0048,  0.0468, -0.0739,  0.0112,  0.0059, -0.0143, -0.0228,\n",
      "         0.0241,  0.0418], requires_grad=True)]\n"
     ]
    }
   ],
   "source": [
    "params = list(net.parameters())\n",
    "print(params)"
   ]
  },
  {
   "cell_type": "code",
   "execution_count": 4,
   "metadata": {},
   "outputs": [
    {
     "name": "stdout",
     "output_type": "stream",
     "text": [
      "6\n"
     ]
    }
   ],
   "source": [
    "print(len(params))"
   ]
  },
  {
   "cell_type": "code",
   "execution_count": 5,
   "metadata": {},
   "outputs": [
    {
     "name": "stdout",
     "output_type": "stream",
     "text": [
      "tensor([[-0.0441, -0.0706, -0.0051, -0.0244, -0.0264,  0.0856,  0.0977, -0.0560,\n",
      "          0.0734, -0.0126]], grad_fn=<ThAddmmBackward>)\n"
     ]
    }
   ],
   "source": [
    "input = torch.randn(1,1,32,32)\n",
    "out = net(input)\n",
    "print(out)"
   ]
  },
  {
   "cell_type": "markdown",
   "metadata": {},
   "source": [
    "## Loss Function\n",
    "A loss function takes the (output, target) pair of inputs, and computes a value that estimates how far away the output is from the target.\n",
    "\n",
    "There are several different loss functions under the nn package. A simple loss is: nn.MSELoss which computes the mean-squared error between the input and the target.\n",
    "\n",
    "For example:"
   ]
  },
  {
   "cell_type": "code",
   "execution_count": 6,
   "metadata": {},
   "outputs": [
    {
     "name": "stdout",
     "output_type": "stream",
     "text": [
      "tensor(0.9547, grad_fn=<MseLossBackward>)\n"
     ]
    }
   ],
   "source": [
    "output = net(input)\n",
    "target = torch.randn(10) # a dummy target, for example\n",
    "target = target.view(1, -1) # make it the same shape as output\n",
    "criterion = nn.MSELoss()\n",
    "\n",
    "loss = criterion(output, target)\n",
    "print(loss)"
   ]
  },
  {
   "cell_type": "markdown",
   "metadata": {},
   "source": [
    "## Backprop\n",
    "To backpropagate the error all we have to do is to loss.backward(). You need to clear the existing gradients though, else gradients will be accumulated to existing gradients.\n",
    "\n",
    "Now we shall call loss.backward(), and have a look at fc1's bias gradients before and after the backward"
   ]
  },
  {
   "cell_type": "code",
   "execution_count": 7,
   "metadata": {},
   "outputs": [
    {
     "name": "stdout",
     "output_type": "stream",
     "text": [
      "fc1.bias.grad before backward\n",
      "None\n",
      "\n",
      "\n",
      "\n",
      "fc1.bias.grad after backward\n",
      "tensor([ 0.0009,  0.0000,  0.0027,  0.0040,  0.0000,  0.0000, -0.0200,  0.0000,\n",
      "         0.0000,  0.0000,  0.0040,  0.0000,  0.0000,  0.0165,  0.0091,  0.0000,\n",
      "         0.0000,  0.0000,  0.0000,  0.0112, -0.0061,  0.0000,  0.0165, -0.0245,\n",
      "         0.0000,  0.0053,  0.0164,  0.0102,  0.0000, -0.0153,  0.0000,  0.0000,\n",
      "         0.0000,  0.0000,  0.0000, -0.0104, -0.0124,  0.0000, -0.0113, -0.0116,\n",
      "         0.0068,  0.0010, -0.0022,  0.0000,  0.0000,  0.0002,  0.0000,  0.0000,\n",
      "        -0.0084,  0.0114, -0.0122,  0.0000,  0.0000, -0.0033,  0.0092,  0.0000,\n",
      "        -0.0055,  0.0000,  0.0078,  0.0000,  0.0000, -0.0118,  0.0000,  0.0095,\n",
      "        -0.0083,  0.0098,  0.0045,  0.0000,  0.0017,  0.0000,  0.0054,  0.0000,\n",
      "         0.0085, -0.0091, -0.0197,  0.0000,  0.0000,  0.0000, -0.0024,  0.0000,\n",
      "         0.0000,  0.0177, -0.0161,  0.0000,  0.0043,  0.0086,  0.0024,  0.0120,\n",
      "         0.0000, -0.0007, -0.0124, -0.0062,  0.0058,  0.0047, -0.0093, -0.0131,\n",
      "        -0.0036,  0.0068,  0.0006, -0.0043,  0.0000,  0.0000, -0.0094,  0.0000,\n",
      "         0.0000,  0.0000,  0.0111, -0.0007,  0.0237, -0.0071,  0.0000,  0.0000,\n",
      "        -0.0156, -0.0062,  0.0000,  0.0054,  0.0000, -0.0159,  0.0000, -0.0107])\n"
     ]
    }
   ],
   "source": [
    "net.zero_grad()    # zeroes the gradient buffers of all parameters\n",
    "\n",
    "print('fc1.bias.grad before backward')\n",
    "print(net.fc1.bias.grad)\n",
    "print('\\n\\n')\n",
    "\n",
    "# gradient 계산\n",
    "loss.backward()\n",
    "\n",
    "print('fc1.bias.grad after backward')\n",
    "print(net.fc1.bias.grad)"
   ]
  },
  {
   "cell_type": "markdown",
   "metadata": {},
   "source": [
    "## Update the weights\n",
    "The simplest update rule used in practice is the Stochastic Gradient Descent(SGD):\n",
    "weight = weight - learning_rate * gradient\n",
    "We can implement this using simple python code:"
   ]
  },
  {
   "cell_type": "code",
   "execution_count": 8,
   "metadata": {},
   "outputs": [],
   "source": [
    "learning_rate = 0.01\n",
    "for f in net.parameters():\n",
    "    f.data.sub_(f.grad.data * learning_rate)"
   ]
  },
  {
   "cell_type": "markdown",
   "metadata": {},
   "source": [
    "However, as you use neural networks, you want to use various different update rules such as SGD, Nesterov-SGD, Adam, RMSProp etc. To enable this, we built a small package: torch.optim that implements all these methods. Using it is very simple:"
   ]
  },
  {
   "cell_type": "code",
   "execution_count": 9,
   "metadata": {},
   "outputs": [],
   "source": [
    "import torch.optim as optim\n",
    "\n",
    "# create your optimizer\n",
    "optimizer = optim.SGD(net.parameters(), lr = 0.01)\n",
    "\n",
    "# in your training loop:\n",
    "optimizer.zero_grad()   # zero the gradient buffers (prevent gradient accumulated)\n",
    "output = net(input)\n",
    "loss = criterion(output, target)\n",
    "loss.backward()\n",
    "optimizer.step() # Do update"
   ]
  },
  {
   "cell_type": "markdown",
   "metadata": {},
   "source": [
    "Observe how gradient buffers had to be manually set to zero using optimizer.zero_grad(). This is because gradients are accumulated as explained in Backprop section"
   ]
  }
 ],
 "metadata": {
  "kernelspec": {
   "display_name": "Python 3",
   "language": "python",
   "name": "python3"
  },
  "language_info": {
   "codemirror_mode": {
    "name": "ipython",
    "version": 3
   },
   "file_extension": ".py",
   "mimetype": "text/x-python",
   "name": "python",
   "nbconvert_exporter": "python",
   "pygments_lexer": "ipython3",
   "version": "3.6.5"
  }
 },
 "nbformat": 4,
 "nbformat_minor": 2
}
